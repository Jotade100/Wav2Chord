{
 "cells": [
  {
   "cell_type": "markdown",
   "metadata": {},
   "source": [
    "# Creando y entrenando el modelo\n",
    "De los archivos generados en el documento **Crear Dataset**, se extraen los datos de los respectivos CSV. En mi caso usaré las muestras que están sampleadas a 8KHz, para el entrenamiento del modelo."
   ]
  },
  {
   "cell_type": "code",
   "execution_count": 29,
   "metadata": {},
   "outputs": [
    {
     "data": {
      "text/html": [
       "<div>\n",
       "<style scoped>\n",
       "    .dataframe tbody tr th:only-of-type {\n",
       "        vertical-align: middle;\n",
       "    }\n",
       "\n",
       "    .dataframe tbody tr th {\n",
       "        vertical-align: top;\n",
       "    }\n",
       "\n",
       "    .dataframe thead th {\n",
       "        text-align: right;\n",
       "    }\n",
       "</style>\n",
       "<table border=\"1\" class=\"dataframe\">\n",
       "  <thead>\n",
       "    <tr style=\"text-align: right;\">\n",
       "      <th></th>\n",
       "      <th>0</th>\n",
       "      <th>1</th>\n",
       "      <th>2</th>\n",
       "      <th>3</th>\n",
       "      <th>4</th>\n",
       "      <th>5</th>\n",
       "      <th>6</th>\n",
       "      <th>7</th>\n",
       "      <th>8</th>\n",
       "      <th>9</th>\n",
       "      <th>...</th>\n",
       "      <th>7990</th>\n",
       "      <th>7991</th>\n",
       "      <th>7992</th>\n",
       "      <th>7993</th>\n",
       "      <th>7994</th>\n",
       "      <th>7995</th>\n",
       "      <th>7996</th>\n",
       "      <th>7997</th>\n",
       "      <th>7998</th>\n",
       "      <th>7999</th>\n",
       "    </tr>\n",
       "  </thead>\n",
       "  <tbody>\n",
       "    <tr>\n",
       "      <th>0</th>\n",
       "      <td>-0.013273</td>\n",
       "      <td>-0.042601</td>\n",
       "      <td>-0.080638</td>\n",
       "      <td>-0.055170</td>\n",
       "      <td>-0.044443</td>\n",
       "      <td>-0.064419</td>\n",
       "      <td>-0.047288</td>\n",
       "      <td>-0.057819</td>\n",
       "      <td>-0.058834</td>\n",
       "      <td>0.029278</td>\n",
       "      <td>...</td>\n",
       "      <td>-0.004038</td>\n",
       "      <td>0.038039</td>\n",
       "      <td>0.065135</td>\n",
       "      <td>0.059467</td>\n",
       "      <td>0.015023</td>\n",
       "      <td>-0.007802</td>\n",
       "      <td>0.004385</td>\n",
       "      <td>0.014987</td>\n",
       "      <td>0.012070</td>\n",
       "      <td>-0.036266</td>\n",
       "    </tr>\n",
       "    <tr>\n",
       "      <th>1</th>\n",
       "      <td>-0.021142</td>\n",
       "      <td>-0.079378</td>\n",
       "      <td>-0.089382</td>\n",
       "      <td>-0.052712</td>\n",
       "      <td>-0.028798</td>\n",
       "      <td>-0.094265</td>\n",
       "      <td>-0.069225</td>\n",
       "      <td>-0.007984</td>\n",
       "      <td>-0.040488</td>\n",
       "      <td>0.060758</td>\n",
       "      <td>...</td>\n",
       "      <td>-0.072834</td>\n",
       "      <td>-0.019352</td>\n",
       "      <td>0.032318</td>\n",
       "      <td>0.049318</td>\n",
       "      <td>0.048659</td>\n",
       "      <td>0.020963</td>\n",
       "      <td>0.020229</td>\n",
       "      <td>0.013798</td>\n",
       "      <td>0.019398</td>\n",
       "      <td>-0.024244</td>\n",
       "    </tr>\n",
       "    <tr>\n",
       "      <th>2</th>\n",
       "      <td>0.002626</td>\n",
       "      <td>0.001108</td>\n",
       "      <td>-0.022353</td>\n",
       "      <td>-0.019635</td>\n",
       "      <td>-0.041594</td>\n",
       "      <td>-0.038499</td>\n",
       "      <td>-0.086986</td>\n",
       "      <td>0.003856</td>\n",
       "      <td>-0.002251</td>\n",
       "      <td>-0.021406</td>\n",
       "      <td>...</td>\n",
       "      <td>0.037276</td>\n",
       "      <td>0.066466</td>\n",
       "      <td>0.045844</td>\n",
       "      <td>0.034343</td>\n",
       "      <td>-0.024727</td>\n",
       "      <td>-0.016360</td>\n",
       "      <td>-0.011682</td>\n",
       "      <td>-0.023722</td>\n",
       "      <td>-0.009808</td>\n",
       "      <td>-0.061192</td>\n",
       "    </tr>\n",
       "    <tr>\n",
       "      <th>3</th>\n",
       "      <td>-0.023727</td>\n",
       "      <td>-0.043817</td>\n",
       "      <td>-0.029041</td>\n",
       "      <td>-0.019204</td>\n",
       "      <td>-0.005506</td>\n",
       "      <td>0.005745</td>\n",
       "      <td>0.013840</td>\n",
       "      <td>0.022301</td>\n",
       "      <td>0.033232</td>\n",
       "      <td>0.038414</td>\n",
       "      <td>...</td>\n",
       "      <td>-0.019034</td>\n",
       "      <td>-0.030170</td>\n",
       "      <td>-0.034882</td>\n",
       "      <td>-0.030482</td>\n",
       "      <td>-0.029219</td>\n",
       "      <td>-0.026727</td>\n",
       "      <td>-0.019752</td>\n",
       "      <td>-0.012522</td>\n",
       "      <td>-0.011242</td>\n",
       "      <td>-0.012924</td>\n",
       "    </tr>\n",
       "    <tr>\n",
       "      <th>4</th>\n",
       "      <td>-0.013385</td>\n",
       "      <td>-0.029699</td>\n",
       "      <td>-0.025594</td>\n",
       "      <td>-0.018382</td>\n",
       "      <td>-0.008203</td>\n",
       "      <td>-0.002810</td>\n",
       "      <td>0.002146</td>\n",
       "      <td>0.016613</td>\n",
       "      <td>0.049522</td>\n",
       "      <td>0.090055</td>\n",
       "      <td>...</td>\n",
       "      <td>-0.006987</td>\n",
       "      <td>-0.011283</td>\n",
       "      <td>-0.014254</td>\n",
       "      <td>-0.017039</td>\n",
       "      <td>-0.020214</td>\n",
       "      <td>-0.017839</td>\n",
       "      <td>-0.018699</td>\n",
       "      <td>-0.017494</td>\n",
       "      <td>-0.015589</td>\n",
       "      <td>-0.022976</td>\n",
       "    </tr>\n",
       "  </tbody>\n",
       "</table>\n",
       "<p>5 rows × 8000 columns</p>\n",
       "</div>"
      ],
      "text/plain": [
       "       0         1         2         3         4         5         6     \\\n",
       "0 -0.013273 -0.042601 -0.080638 -0.055170 -0.044443 -0.064419 -0.047288   \n",
       "1 -0.021142 -0.079378 -0.089382 -0.052712 -0.028798 -0.094265 -0.069225   \n",
       "2  0.002626  0.001108 -0.022353 -0.019635 -0.041594 -0.038499 -0.086986   \n",
       "3 -0.023727 -0.043817 -0.029041 -0.019204 -0.005506  0.005745  0.013840   \n",
       "4 -0.013385 -0.029699 -0.025594 -0.018382 -0.008203 -0.002810  0.002146   \n",
       "\n",
       "       7         8         9     ...      7990      7991      7992      7993  \\\n",
       "0 -0.057819 -0.058834  0.029278  ... -0.004038  0.038039  0.065135  0.059467   \n",
       "1 -0.007984 -0.040488  0.060758  ... -0.072834 -0.019352  0.032318  0.049318   \n",
       "2  0.003856 -0.002251 -0.021406  ...  0.037276  0.066466  0.045844  0.034343   \n",
       "3  0.022301  0.033232  0.038414  ... -0.019034 -0.030170 -0.034882 -0.030482   \n",
       "4  0.016613  0.049522  0.090055  ... -0.006987 -0.011283 -0.014254 -0.017039   \n",
       "\n",
       "       7994      7995      7996      7997      7998      7999  \n",
       "0  0.015023 -0.007802  0.004385  0.014987  0.012070 -0.036266  \n",
       "1  0.048659  0.020963  0.020229  0.013798  0.019398 -0.024244  \n",
       "2 -0.024727 -0.016360 -0.011682 -0.023722 -0.009808 -0.061192  \n",
       "3 -0.029219 -0.026727 -0.019752 -0.012522 -0.011242 -0.012924  \n",
       "4 -0.020214 -0.017839 -0.018699 -0.017494 -0.015589 -0.022976  \n",
       "\n",
       "[5 rows x 8000 columns]"
      ]
     },
     "execution_count": 29,
     "metadata": {},
     "output_type": "execute_result"
    }
   ],
   "source": [
    "import pandas as pd\n",
    "\n",
    "X_completo = pd.read_csv('fileX8000.csv', sep=',',header=None)\n",
    "X_completo.head()"
   ]
  },
  {
   "cell_type": "markdown",
   "metadata": {},
   "source": [
    "Leyendo ahora los valores de *Y*. Aún vienen con su etiqueta en formato de texto."
   ]
  },
  {
   "cell_type": "code",
   "execution_count": 30,
   "metadata": {},
   "outputs": [
    {
     "data": {
      "text/html": [
       "<div>\n",
       "<style scoped>\n",
       "    .dataframe tbody tr th:only-of-type {\n",
       "        vertical-align: middle;\n",
       "    }\n",
       "\n",
       "    .dataframe tbody tr th {\n",
       "        vertical-align: top;\n",
       "    }\n",
       "\n",
       "    .dataframe thead th {\n",
       "        text-align: right;\n",
       "    }\n",
       "</style>\n",
       "<table border=\"1\" class=\"dataframe\">\n",
       "  <thead>\n",
       "    <tr style=\"text-align: right;\">\n",
       "      <th></th>\n",
       "      <th>0</th>\n",
       "    </tr>\n",
       "  </thead>\n",
       "  <tbody>\n",
       "    <tr>\n",
       "      <th>0</th>\n",
       "      <td>A#dim</td>\n",
       "    </tr>\n",
       "    <tr>\n",
       "      <th>1</th>\n",
       "      <td>A#dim</td>\n",
       "    </tr>\n",
       "    <tr>\n",
       "      <th>2</th>\n",
       "      <td>A#dim</td>\n",
       "    </tr>\n",
       "    <tr>\n",
       "      <th>3</th>\n",
       "      <td>A#dim</td>\n",
       "    </tr>\n",
       "    <tr>\n",
       "      <th>4</th>\n",
       "      <td>A#dim</td>\n",
       "    </tr>\n",
       "  </tbody>\n",
       "</table>\n",
       "</div>"
      ],
      "text/plain": [
       "       0\n",
       "0  A#dim\n",
       "1  A#dim\n",
       "2  A#dim\n",
       "3  A#dim\n",
       "4  A#dim"
      ]
     },
     "execution_count": 30,
     "metadata": {},
     "output_type": "execute_result"
    }
   ],
   "source": [
    "Y_completo =pd.read_csv('fileY8000.csv', sep=',',header=None)\n",
    "Y_completo.head()"
   ]
  },
  {
   "cell_type": "markdown",
   "metadata": {},
   "source": [
    "### Convertir arrelgos a Numpy\n",
    "Ahora se tomará el dataset y se convertirá a un arreglo de numpy para el entrenamiento de la reneuronal."
   ]
  },
  {
   "cell_type": "code",
   "execution_count": 31,
   "metadata": {},
   "outputs": [
    {
     "data": {
      "text/plain": [
       "(11874, 8000)"
      ]
     },
     "execution_count": 31,
     "metadata": {},
     "output_type": "execute_result"
    }
   ],
   "source": [
    "X_completo = X_completo.to_numpy()\n",
    "X_completo.shape"
   ]
  },
  {
   "cell_type": "code",
   "execution_count": 32,
   "metadata": {},
   "outputs": [
    {
     "data": {
      "text/plain": [
       "(11874, 1)"
      ]
     },
     "execution_count": 32,
     "metadata": {},
     "output_type": "execute_result"
    }
   ],
   "source": [
    "Y_completo = Y_completo.to_numpy()\n",
    "Y_completo.shape"
   ]
  },
  {
   "cell_type": "markdown",
   "metadata": {},
   "source": [
    "### Label encoding para las 36 clases\n"
   ]
  },
  {
   "cell_type": "markdown",
   "metadata": {},
   "source": [
    "Ya que la red neuronal es incapaz de clasificar textos se debe de codificar cada una de las etiquetas de los acordes a un valor número. Para ello usaré la librería de *sklearn* que provee dicha facilidad."
   ]
  },
  {
   "cell_type": "code",
   "execution_count": 33,
   "metadata": {},
   "outputs": [
    {
     "name": "stderr",
     "output_type": "stream",
     "text": [
      "c:\\users\\juan diego\\appdata\\local\\programs\\python\\python38\\lib\\site-packages\\sklearn\\preprocessing\\_label.py:235: DataConversionWarning: A column-vector y was passed when a 1d array was expected. Please change the shape of y to (n_samples, ), for example using ravel().\n",
      "  y = column_or_1d(y, warn=True)\n"
     ]
    },
    {
     "data": {
      "text/plain": [
       "array(['A#dim', 'A#maj', 'A#min', 'Adim', 'Amaj', 'Amin', 'Bdim', 'Bmaj',\n",
       "       'Bmin', 'C#dim', 'C#maj', 'C#min', 'Cdim', 'Cmaj', 'Cmin', 'D#dim',\n",
       "       'D#maj', 'D#min', 'Ddim', 'Dmaj', 'Dmin', 'Edim', 'Emaj', 'Emin',\n",
       "       'F#dim', 'F#maj', 'F#min', 'Fdim', 'Fmaj', 'Fmin', 'G#dim',\n",
       "       'G#maj', 'G#min', 'Gdim', 'Gmaj', 'Gmin'], dtype=object)"
      ]
     },
     "execution_count": 33,
     "metadata": {},
     "output_type": "execute_result"
    }
   ],
   "source": [
    "from sklearn import preprocessing\n",
    "# Label encoder para las categorías\n",
    "le = preprocessing.LabelEncoder()\n",
    "le.fit(Y_completo)\n",
    "le.classes_"
   ]
  },
  {
   "cell_type": "code",
   "execution_count": 134,
   "metadata": {},
   "outputs": [
    {
     "data": {
      "text/plain": [
       "36"
      ]
     },
     "execution_count": 134,
     "metadata": {},
     "output_type": "execute_result"
    }
   ],
   "source": [
    "# Verificando que sigan habiendo 36 clases\n",
    "len(le.classes_)"
   ]
  },
  {
   "cell_type": "markdown",
   "metadata": {},
   "source": [
    "Se procede a transformar los datos con la instancia del *LABEL ENCODER* creada."
   ]
  },
  {
   "cell_type": "code",
   "execution_count": 35,
   "metadata": {},
   "outputs": [
    {
     "name": "stderr",
     "output_type": "stream",
     "text": [
      "c:\\users\\juan diego\\appdata\\local\\programs\\python\\python38\\lib\\site-packages\\sklearn\\preprocessing\\_label.py:268: DataConversionWarning: A column-vector y was passed when a 1d array was expected. Please change the shape of y to (n_samples, ), for example using ravel().\n",
      "  y = column_or_1d(y, warn=True)\n"
     ]
    }
   ],
   "source": [
    "Y_encoded = le.transform(Y_completo)"
   ]
  },
  {
   "cell_type": "code",
   "execution_count": 36,
   "metadata": {},
   "outputs": [
    {
     "data": {
      "text/plain": [
       "array([0, 0, 0, 0, 0, 0, 0, 0, 0, 0])"
      ]
     },
     "execution_count": 36,
     "metadata": {},
     "output_type": "execute_result"
    }
   ],
   "source": [
    "Y_encoded[0:10]"
   ]
  },
  {
   "cell_type": "markdown",
   "metadata": {},
   "source": [
    "### Partiendo entre training y testing"
   ]
  },
  {
   "cell_type": "markdown",
   "metadata": {},
   "source": [
    "Una parte de los datos se usará para entrenarlo y la otra para verificar que haya aprendido correctamente a clasificar acordes. En este caso yo lo dividiré un 70% para entrenar y un 30% para validación y testeo."
   ]
  },
  {
   "cell_type": "code",
   "execution_count": 37,
   "metadata": {},
   "outputs": [],
   "source": [
    "from sklearn.model_selection import train_test_split\n",
    "# Haciendo el splitting entre training set y test set\n",
    "\n",
    "x_train, x_test, y_train, y_test = train_test_split(X_completo, Y_encoded, \n",
    "                                                    stratify=Y_encoded,\n",
    "                                                    test_size=0.30, \n",
    "                                                    random_state=542,\n",
    "                                                    shuffle=True)"
   ]
  },
  {
   "cell_type": "markdown",
   "metadata": {},
   "source": [
    "# Modelo propiamente\n",
    "Usando KERAS creé un modelo para clasificación donde se utilizan distinas capas. A continuación explico en qué consiste el modelo y su funcionamiento."
   ]
  },
  {
   "cell_type": "markdown",
   "metadata": {},
   "source": [
    "## CNN *(redes neuronales convolucionales)*\n",
    "La CNN es un tipo de Red Neuronal Artificial con aprendizaje supervisado que procesa sus capas imitando al cortex visual del ojo humano para identificar distintas características en las entradas que en definitiva hacen que pueda identificar objetos. A cada etapa expresada en este tipo de neuronas se les llama **convolución**.\n",
    "Cada convolución consiste en tomar «grupos de pixeles cercanos» de la imagen de entrada e ir operando matemáticamente (usando un producto escalar) contra una pequeña matriz que se llama kernel. Normalmente la matriz se expresa en 2D, pero debido a que estaré procesando sonido las convoluciones se harán en una dimensión, y el Kernel será el largo del filtro que será multiplicado.\n",
    "\n",
    "![](http://www.diegocalvo.es/wp-content/uploads/2017/07/convoluci%C3%B3n.png)\n",
    "\n",
    "## Pooling *(buscando valores máximos)*\n",
    "El *pooling* lo que hace es obtener el mayor de los números usando como base un filtro. La intención de este es jalar los datos más significativos. Normalmente, se hace en 2D, sin embargo, ya que mi capa convolucional fue en 1D, debo de respetar la dimensionalidad.\n",
    "![](http://www.diegocalvo.es/wp-content/uploads/2017/07/reducci%C3%B3n.png)\n",
    "\n",
    "## Dropout *(desconectar neuronas)*\n",
    "Dropout lo que hace es desconectar un porcentaje de neuronas para hacer que cada una de estas aprenda bastante y pueda obtenerse un mejor resultado. En un modelo completamete conectado todas las neuronas están conectadas unas con las otras, en un modelo con 40% de *dropout* se desconectan el 40% de neuronas aleatoriamente.\n",
    "\n",
    "![](https://cdn-images-1.medium.com/freeze/max/1000/1*zwucz12TmYEaca5OcaPvbA.png?q=20)\n",
    "\n",
    "## Normalización\n",
    "Normalizando los datos las distancias de los datos van de 0 a 1 y esto ayuda a la red neuronal a trabajar mejor y a tener menos problemas, pero cuando normalizamos los datos solo la capa de entrada se beneficia de esto, conforme los datos pasan por otras capas ocultas esta normalización se va perdiendo y si tenemos una red neuronal con muchas capas podemos tener problemas con el entrenamiento. El metodo de batch normalization normaliza los datos antes de que pasen por la función de activación en cada capa que de la red neuronal, de esta manera siempre tendremos los datos normalizados.\n",
    "\n",
    "La idea de este *momentum* en la normalización es que cuando introduzcamos un nuevo mini-batch de entrada (**N** muestras procesadas en paralelo) no se usen una media y una desviación muy distintas a las de la iteración anterior, para lo que se tendrá en cuenta el histórico, y se elegirá una constante que pondere la importancia de los valores del mini-batch actual frente a los valores del anterior.\n",
    "\n",
    "Ya que los datos son audios se estandariza todo para la misma melodía. \n",
    "\n",
    "\n",
    "## LSTM (Long Short Term Memory)\n",
    "Las LSTM son un tipo especial de redes recurrentes. La característica principal de las redes recurrentes es que la información puede persistir, por lo que, básicamente, pueden «recordar» estados previos y utilizar esta información para decidir cuál será el siguiente. Esta característica las hace muy adecuadas para manejar series cronológicas. Mientras las redes recurrentes estándar pueden modelar dependencias a corto plazo. Ya que lo que estoy prediciendo es sonido la idea es que recuerden las ondas previas del acorde para que den un mejor resultado. Además, cada muestra dura dos segundos, que es suficientemente corta para que LSTM las recuerde y prediga.\n",
    "\n",
    "![](https://blog.gft.com/es/wp-content/uploads/sites/3/2018/11/image2018-5-30_18-11-1.png)\n",
    "\n",
    "Para este tipo de redes neuronales se usa como función de activación la tangente hiperbólica por que es fácil de derivar y reduce el costo computacional de calcular una derivada. Además, tiene una similitud con la función sigmoide.\n",
    "\n",
    "![](https://miro.medium.com/max/1190/1*f9erByySVjTjohfFdNkJYQ.jpeg)\n",
    "\n",
    "## Bidireccional *(ya no fue usado por restricciones de hardware)*\n",
    "Se refiere a que existe una nueva capa de neuronas con dos subcapas, una que comunica hacia adelante y otra hacia atrás con el fin de retroalimentar pesos y constantes.\n",
    "\n",
    "## Capa densa\n",
    "Quiere decir que todas las neuronas de la capa anterior están conectadas con esta y con la siguiente.\n",
    "![](https://cdn-images-1.medium.com/freeze/max/1000/0*3eDRoOvU83O6i5bn?q=20)\n",
    "\n"
   ]
  },
  {
   "cell_type": "code",
   "execution_count": 79,
   "metadata": {},
   "outputs": [
    {
     "name": "stdout",
     "output_type": "stream",
     "text": [
      "Model: \"model_11\"\n",
      "_________________________________________________________________\n",
      "Layer (type)                 Output Shape              Param #   \n",
      "=================================================================\n",
      "input_11 (InputLayer)        (None, 8000, 1)           0         \n",
      "_________________________________________________________________\n",
      "batch_normalization_27 (Batc (None, 8000, 1)           4         \n",
      "_________________________________________________________________\n",
      "conv1d_22 (Conv1D)           (None, 7988, 8)           112       \n",
      "_________________________________________________________________\n",
      "max_pooling1d_22 (MaxPooling (None, 3994, 8)           0         \n",
      "_________________________________________________________________\n",
      "dropout_22 (Dropout)         (None, 3994, 8)           0         \n",
      "_________________________________________________________________\n",
      "conv1d_23 (Conv1D)           (None, 3984, 16)          1424      \n",
      "_________________________________________________________________\n",
      "max_pooling1d_23 (MaxPooling (None, 1328, 16)          0         \n",
      "_________________________________________________________________\n",
      "dropout_23 (Dropout)         (None, 1328, 16)          0         \n",
      "_________________________________________________________________\n",
      "lstm_6 (LSTM)                (None, 128)               74240     \n",
      "_________________________________________________________________\n",
      "batch_normalization_28 (Batc (None, 128)               512       \n",
      "_________________________________________________________________\n",
      "dense_29 (Dense)             (None, 256)               33024     \n",
      "_________________________________________________________________\n",
      "dense_30 (Dense)             (None, 128)               32896     \n",
      "_________________________________________________________________\n",
      "dense_31 (Dense)             (None, 36)                4644      \n",
      "=================================================================\n",
      "Total params: 146,856\n",
      "Trainable params: 146,598\n",
      "Non-trainable params: 258\n",
      "_________________________________________________________________\n"
     ]
    }
   ],
   "source": [
    "from keras.layers import Dense, Dropout, Flatten, Conv1D, Input, MaxPooling1D, Bidirectional, BatchNormalization, LSTM\n",
    "from keras.models import Model\n",
    "from keras.callbacks import EarlyStopping, ModelCheckpoint\n",
    "\n",
    "inputs = Input(shape=(8000,1))\n",
    "x = BatchNormalization(axis=-1, \n",
    "                       momentum=0.99, \n",
    "                       epsilon=1e-3, \n",
    "                       center=True, \n",
    "                       scale=True)(inputs)\n",
    "# Capa Convolucional\n",
    "x = Conv1D(8, 13, padding='valid', activation='relu', strides=1)(x)\n",
    "x = MaxPooling1D(2)(x)\n",
    "x = Dropout(0.1)(x)\n",
    "# Capa Convolucional\n",
    "x = Conv1D(16, 11, padding='valid', activation='relu', strides=1)(x)\n",
    "x = MaxPooling1D(3)(x)\n",
    "x = Dropout(0.3)(x)\n",
    "x = LSTM(128,\n",
    "        return_sequences=False,\n",
    "        activation='tanh')(x)\n",
    "# Ya no fue usado\n",
    "#x = Bidirectional(\n",
    "#        LSTM(128,\n",
    "#             return_sequences=False,\n",
    "#             activation='tanh'),\n",
    "#        merge_mode='sum'\n",
    "#        )(x)\n",
    "x = BatchNormalization(axis=-1, momentum=0.99, epsilon=1e-3, center=True, scale=True)(x)\n",
    "x = Dense(256, activation='relu')(x)\n",
    "x = Dense(128, activation='relu')(x)\n",
    "outputs = Dense(len(le.classes_), activation=\"softmax\")(x)\n",
    "model = Model(inputs, outputs)\n",
    "model.summary()"
   ]
  },
  {
   "cell_type": "code",
   "execution_count": 80,
   "metadata": {},
   "outputs": [],
   "source": [
    "model.compile(loss='categorical_crossentropy',\n",
    "              optimizer='adam',metrics=['accuracy'])"
   ]
  },
  {
   "cell_type": "markdown",
   "metadata": {},
   "source": [
    "### Entrenamiento _per se_ del modelo"
   ]
  },
  {
   "cell_type": "markdown",
   "metadata": {},
   "source": [
    "La capa convolucional de una dimensión espera tres dimensiones, la verdad, la tercera es que el arreglo se pasará de forma lisa."
   ]
  },
  {
   "cell_type": "code",
   "execution_count": 40,
   "metadata": {},
   "outputs": [],
   "source": [
    "x_train = x_train.reshape(-1, 8000, 1) # Cambiando la figura para la capa convolucional"
   ]
  },
  {
   "cell_type": "code",
   "execution_count": 41,
   "metadata": {},
   "outputs": [
    {
     "data": {
      "text/plain": [
       "(8311, 8000, 1)"
      ]
     },
     "execution_count": 41,
     "metadata": {},
     "output_type": "execute_result"
    }
   ],
   "source": [
    "x_train.shape"
   ]
  },
  {
   "cell_type": "markdown",
   "metadata": {},
   "source": [
    "#### One hot encoding para **Y**\n",
    "Hay que aplicar one hot encoding para Y"
   ]
  },
  {
   "cell_type": "code",
   "execution_count": 42,
   "metadata": {},
   "outputs": [],
   "source": [
    "from sklearn.preprocessing import OneHotEncoder\n",
    "\n",
    "onehot_encoder = OneHotEncoder(sparse=False)\n",
    "onehot_encoder.fit(Y_encoded.reshape(-1, 1)) # entrena\n",
    "y_train_onehot_encoded = onehot_encoder.transform(y_train.reshape(-1, 1)) # transforma"
   ]
  },
  {
   "cell_type": "markdown",
   "metadata": {},
   "source": [
    "Probando que hizo bien su trabajo"
   ]
  },
  {
   "cell_type": "code",
   "execution_count": 43,
   "metadata": {},
   "outputs": [
    {
     "data": {
      "text/plain": [
       "12"
      ]
     },
     "execution_count": 43,
     "metadata": {},
     "output_type": "execute_result"
    }
   ],
   "source": [
    "y_train_onehot_encoded[1].argmax()"
   ]
  },
  {
   "cell_type": "code",
   "execution_count": 44,
   "metadata": {},
   "outputs": [
    {
     "data": {
      "text/plain": [
       "12"
      ]
     },
     "execution_count": 44,
     "metadata": {},
     "output_type": "execute_result"
    }
   ],
   "source": [
    "y_train[1]"
   ]
  },
  {
   "cell_type": "markdown",
   "metadata": {},
   "source": [
    "## **A entrenar se ha dicho**\n",
    "Ahora se procede al entrenamiento, debido a que LSTM es bastante pesado, el modelo se entrenó por tiempos, generalmente durante la noche o mientras comía, por lo que se hizo lotes de entrenamiento descritos a continuación:\n",
    "* Ya llevamos 5 épocas con 256\n",
    "* Ya llevamos 5 a 128\n",
    "* Ya llevamos 5 épocas con 256\n",
    "* Ya llevamos 10 épocas con 256\n",
    "* Ya llevamos 20 épocas con 256\n",
    "* Ya llevamos 40 épocas con 256\n",
    "* Ya llevamos 20 épocas con 256\n",
    "* Ya llevamos 10 épocas con 256\n",
    "* Ya llevamos 10 épocas con 256\n",
    "* Ya llevamos 30 épocas con 256\n",
    "* Ya llevamos 40 épocas con 256\n",
    "* Ya llevamos 50 épocas con 256\n",
    "* Ya llevamos 12 épocas con 256\n",
    "* Ya llevamos 5 épocas con 256"
   ]
  },
  {
   "cell_type": "code",
   "execution_count": 142,
   "metadata": {},
   "outputs": [
    {
     "name": "stdout",
     "output_type": "stream",
     "text": [
      "Train on 7479 samples, validate on 832 samples\n",
      "Epoch 1/50\n",
      "7479/7479 [==============================] - 740s 99ms/step - loss: 0.3218 - accuracy: 0.8830 - val_loss: 1.3048 - val_accuracy: 0.7332\n",
      "Epoch 2/50\n",
      "7479/7479 [==============================] - 735s 98ms/step - loss: 0.3391 - accuracy: 0.8774 - val_loss: 1.3210 - val_accuracy: 0.7548\n",
      "Epoch 3/50\n",
      "7479/7479 [==============================] - 741s 99ms/step - loss: 0.3482 - accuracy: 0.8730 - val_loss: 1.3636 - val_accuracy: 0.7175\n",
      "Epoch 4/50\n",
      "7479/7479 [==============================] - 816s 109ms/step - loss: 0.3295 - accuracy: 0.8818 - val_loss: 1.3663 - val_accuracy: 0.7332\n",
      "Epoch 5/50\n",
      "7479/7479 [==============================] - 784s 105ms/step - loss: 0.3371 - accuracy: 0.8748 - val_loss: 1.3394 - val_accuracy: 0.7488\n",
      "Epoch 6/50\n",
      "7479/7479 [==============================] - 764s 102ms/step - loss: 0.3214 - accuracy: 0.8790 - val_loss: 1.3671 - val_accuracy: 0.7212\n",
      "Epoch 7/50\n",
      "7479/7479 [==============================] - 809s 108ms/step - loss: 0.3212 - accuracy: 0.8811 - val_loss: 1.2908 - val_accuracy: 0.7512\n",
      "Epoch 8/50\n",
      "7479/7479 [==============================] - 773s 103ms/step - loss: 0.3510 - accuracy: 0.8742 - val_loss: 1.4015 - val_accuracy: 0.7248\n",
      "Epoch 9/50\n",
      "7479/7479 [==============================] - 723s 97ms/step - loss: 0.3229 - accuracy: 0.8819 - val_loss: 1.2597 - val_accuracy: 0.7584\n",
      "Epoch 10/50\n",
      "7479/7479 [==============================] - 703s 94ms/step - loss: 0.3267 - accuracy: 0.8802 - val_loss: 1.2860 - val_accuracy: 0.7428\n",
      "Epoch 11/50\n",
      "7479/7479 [==============================] - 701s 94ms/step - loss: 0.2998 - accuracy: 0.8894 - val_loss: 1.2438 - val_accuracy: 0.7680\n",
      "Epoch 12/50\n",
      "7479/7479 [==============================] - 702s 94ms/step - loss: 0.3174 - accuracy: 0.8813 - val_loss: 1.3910 - val_accuracy: 0.7031\n",
      "Epoch 13/50\n",
      "7479/7479 [==============================] - 702s 94ms/step - loss: 0.3304 - accuracy: 0.8774 - val_loss: 1.5054 - val_accuracy: 0.7127\n",
      "Epoch 14/50\n",
      "7479/7479 [==============================] - 719s 96ms/step - loss: 0.3328 - accuracy: 0.8810 - val_loss: 1.2788 - val_accuracy: 0.7572\n",
      "Epoch 15/50\n",
      "7479/7479 [==============================] - 702s 94ms/step - loss: 0.3070 - accuracy: 0.8878 - val_loss: 1.2280 - val_accuracy: 0.7668\n",
      "Epoch 16/50\n",
      "7479/7479 [==============================] - 703s 94ms/step - loss: 0.2855 - accuracy: 0.8941 - val_loss: 1.3630 - val_accuracy: 0.7452\n",
      "Epoch 17/50\n",
      "7479/7479 [==============================] - 703s 94ms/step - loss: 0.3119 - accuracy: 0.8869 - val_loss: 1.3084 - val_accuracy: 0.7500\n",
      "Epoch 18/50\n",
      "7479/7479 [==============================] - 708s 95ms/step - loss: 0.2972 - accuracy: 0.8932 - val_loss: 1.3015 - val_accuracy: 0.7428\n",
      "Epoch 19/50\n",
      "7479/7479 [==============================] - 718s 96ms/step - loss: 0.2913 - accuracy: 0.8918 - val_loss: 1.2670 - val_accuracy: 0.7464\n",
      "Epoch 20/50\n",
      "7479/7479 [==============================] - 703s 94ms/step - loss: 0.2861 - accuracy: 0.8950 - val_loss: 1.2379 - val_accuracy: 0.7548\n",
      "Epoch 21/50\n",
      "7479/7479 [==============================] - 710s 95ms/step - loss: 0.2858 - accuracy: 0.8936 - val_loss: 1.3471 - val_accuracy: 0.7620\n",
      "Epoch 22/50\n",
      "7479/7479 [==============================] - 703s 94ms/step - loss: 0.2797 - accuracy: 0.9008 - val_loss: 1.2947 - val_accuracy: 0.7560\n",
      "Epoch 23/50\n",
      "7479/7479 [==============================] - 705s 94ms/step - loss: 0.3120 - accuracy: 0.8881 - val_loss: 1.2437 - val_accuracy: 0.7596\n",
      "Epoch 24/50\n",
      "7479/7479 [==============================] - 733s 98ms/step - loss: 0.2969 - accuracy: 0.8946 - val_loss: 1.3498 - val_accuracy: 0.7488\n",
      "Epoch 25/50\n",
      "7479/7479 [==============================] - 744s 99ms/step - loss: 0.2713 - accuracy: 0.9020 - val_loss: 1.3946 - val_accuracy: 0.7392\n",
      "Epoch 26/50\n",
      "7479/7479 [==============================] - 747s 100ms/step - loss: 0.2918 - accuracy: 0.8965 - val_loss: 1.3126 - val_accuracy: 0.7548\n",
      "Epoch 27/50\n",
      "7479/7479 [==============================] - 738s 99ms/step - loss: 0.2708 - accuracy: 0.9008 - val_loss: 1.2557 - val_accuracy: 0.7692\n",
      "Epoch 28/50\n",
      "7479/7479 [==============================] - 739s 99ms/step - loss: 0.2565 - accuracy: 0.9045 - val_loss: 1.2919 - val_accuracy: 0.7849\n",
      "Epoch 29/50\n",
      "7479/7479 [==============================] - 760s 102ms/step - loss: 0.3178 - accuracy: 0.8869 - val_loss: 1.4201 - val_accuracy: 0.7200\n",
      "Epoch 30/50\n",
      "7479/7479 [==============================] - 744s 99ms/step - loss: 0.2960 - accuracy: 0.8932 - val_loss: 1.3195 - val_accuracy: 0.7596\n",
      "Epoch 31/50\n",
      "7479/7479 [==============================] - 744s 99ms/step - loss: 0.2893 - accuracy: 0.8953 - val_loss: 1.3985 - val_accuracy: 0.7536\n",
      "Epoch 32/50\n",
      "7479/7479 [==============================] - 742s 99ms/step - loss: 0.2869 - accuracy: 0.8968 - val_loss: 1.3152 - val_accuracy: 0.7596\n",
      "Epoch 33/50\n",
      "7479/7479 [==============================] - 743s 99ms/step - loss: 0.2735 - accuracy: 0.9020 - val_loss: 1.4095 - val_accuracy: 0.7356\n",
      "Epoch 34/50\n",
      "7479/7479 [==============================] - 754s 101ms/step - loss: 0.2862 - accuracy: 0.8962 - val_loss: 1.4091 - val_accuracy: 0.7464\n",
      "Epoch 35/50\n",
      "7479/7479 [==============================] - 725s 97ms/step - loss: 0.2532 - accuracy: 0.9064 - val_loss: 1.2946 - val_accuracy: 0.7656\n",
      "Epoch 36/50\n",
      "7479/7479 [==============================] - 702s 94ms/step - loss: 0.2552 - accuracy: 0.9064 - val_loss: 1.3003 - val_accuracy: 0.7524\n",
      "Epoch 37/50\n",
      "7479/7479 [==============================] - 703s 94ms/step - loss: 0.2924 - accuracy: 0.8986 - val_loss: 1.4574 - val_accuracy: 0.7320\n",
      "Epoch 38/50\n",
      "7479/7479 [==============================] - 704s 94ms/step - loss: 0.2901 - accuracy: 0.8961 - val_loss: 1.3369 - val_accuracy: 0.7440\n",
      "Epoch 39/50\n",
      "7479/7479 [==============================] - 718s 96ms/step - loss: 0.2708 - accuracy: 0.9029 - val_loss: 1.3529 - val_accuracy: 0.7524\n",
      "Epoch 40/50\n",
      "7479/7479 [==============================] - 704s 94ms/step - loss: 0.2516 - accuracy: 0.9072 - val_loss: 1.3781 - val_accuracy: 0.7656\n",
      "Epoch 41/50\n",
      "7479/7479 [==============================] - 702s 94ms/step - loss: 0.2457 - accuracy: 0.9093 - val_loss: 1.2823 - val_accuracy: 0.7584\n",
      "Epoch 42/50\n",
      "7479/7479 [==============================] - 703s 94ms/step - loss: 0.2434 - accuracy: 0.9111 - val_loss: 1.2219 - val_accuracy: 0.7728\n",
      "Epoch 43/50\n",
      "7479/7479 [==============================] - 705s 94ms/step - loss: 0.2653 - accuracy: 0.9047 - val_loss: 1.2429 - val_accuracy: 0.7800\n",
      "Epoch 44/50\n",
      "7479/7479 [==============================] - 720s 96ms/step - loss: 0.2575 - accuracy: 0.9063 - val_loss: 1.2137 - val_accuracy: 0.7825\n",
      "Epoch 45/50\n",
      "7479/7479 [==============================] - 703s 94ms/step - loss: 0.2420 - accuracy: 0.9136 - val_loss: 1.3434 - val_accuracy: 0.7692\n",
      "Epoch 46/50\n",
      "7479/7479 [==============================] - 702s 94ms/step - loss: 0.2464 - accuracy: 0.9123 - val_loss: 1.3417 - val_accuracy: 0.7776\n",
      "Epoch 47/50\n",
      "7479/7479 [==============================] - 703s 94ms/step - loss: 0.2378 - accuracy: 0.9148 - val_loss: 1.2597 - val_accuracy: 0.7861\n",
      "Epoch 48/50\n",
      "7479/7479 [==============================] - 705s 94ms/step - loss: 0.2533 - accuracy: 0.9079 - val_loss: 1.3734 - val_accuracy: 0.7596\n",
      "Epoch 49/50\n",
      "7479/7479 [==============================] - 718s 96ms/step - loss: 0.2196 - accuracy: 0.9178 - val_loss: 1.3567 - val_accuracy: 0.7584\n",
      "Epoch 50/50\n",
      "7479/7479 [==============================] - 704s 94ms/step - loss: 0.2117 - accuracy: 0.9235 - val_loss: 1.3338 - val_accuracy: 0.7644\n"
     ]
    }
   ],
   "source": [
    "# Batch size es en cuantas porciones divide el dataset gigante para entrenarlo poco a poco\n",
    "# Épocs es iteraciones\n",
    "# Validation Split es para crear la validación en base a una porción de cada iteración\n",
    "# Verbose es para que imprima como va\n",
    "historial_del_modelo = model.fit(\n",
    "    x_train, \n",
    "    y_train_onehot_encoded,\n",
    "    epochs=50,  \n",
    "    batch_size=256, \n",
    "    validation_split = 0.1,\n",
    "    verbose=1\n",
    ")"
   ]
  },
  {
   "cell_type": "code",
   "execution_count": 97,
   "metadata": {},
   "outputs": [],
   "source": [
    "# Importación de las librerías\n",
    "import numpy as np\n",
    "import seaborn as sns\n",
    "import glob\n",
    "import tensorflow as tf\n",
    "import keras\n",
    "from keras.utils import plot_model\n",
    "from time import time\n",
    "import matplotlib.pyplot as plt\n",
    "\n",
    "%matplotlib inline\n",
    "\n",
    "def plot_hist(model_history):\n",
    "    fix,axs=plt.subplots(2,1,figsize=(16,12))\n",
    "    ax1 = axs[0]\n",
    "    ax1.plot(model_history.history['accuracy'])\n",
    "    ax1.plot(model_history.history['val_accuracy'],c='g')\n",
    "    ax1.set_title('Precisión del modelo',fontsize=16)\n",
    "    ax1.set_ylabel('Precisión',fontsize=8)\n",
    "    ax1.set_xlabel('Época',fontsize=8)\n",
    "    ax1.grid(alpha=0.3)\n",
    "    ax1.legend(['Training', 'Testing'], loc='upper left')\n",
    "\n",
    "\n",
    "    # # summarize history for loss\n",
    "    ax2 = axs[1]\n",
    "    ax2.plot(model_history.history['loss'],c='r')\n",
    "    ax2.plot(model_history.history['val_loss'],c='orange')\n",
    "    ax2.set_title('Función de costo',fontsize=16)\n",
    "    ax2.set_ylabel('Costo',fontsize=8)\n",
    "    ax2.set_xlabel('Época',fontsize=8)\n",
    "    ax2.grid(alpha=0.3)\n",
    "    ax2.legend(['Entrenamiento', 'Testing'], loc='upper right')\n",
    "    plt.show()"
   ]
  },
  {
   "cell_type": "code",
   "execution_count": 109,
   "metadata": {},
   "outputs": [
    {
     "data": {
      "image/png": "[encoded data removed]",
      "text/plain": [
       "<Figure size 1152x864 with 2 Axes>"
      ]
     },
     "metadata": {
      "needs_background": "light"
     },
     "output_type": "display_data"
    }
   ],
   "source": [
    "# Graficando el comportamiento del modelo durante el entrenamiento\n",
    "plot_hist(historial_del_modelo)"
   ]
  },
  {
   "cell_type": "markdown",
   "metadata": {},
   "source": [
    "### Guardando el modelo con json y h5\n",
    "Guardando el modelo para futuras implementaciones de este"
   ]
  },
  {
   "cell_type": "code",
   "execution_count": 164,
   "metadata": {},
   "outputs": [],
   "source": [
    "# Guarda las Thetas\n",
    "model.save_weights(\"model.h5\")"
   ]
  },
  {
   "cell_type": "code",
   "execution_count": 125,
   "metadata": {},
   "outputs": [
    {
     "data": {
      "text/plain": [
       "(3563, 36)"
      ]
     },
     "execution_count": 125,
     "metadata": {},
     "output_type": "execute_result"
    }
   ],
   "source": [
    "y_test_onehot_encoded = onehot_encoder.transform(y_test.reshape(-1, 1)) # transforma\n",
    "y_test_onehot_encoded.shape"
   ]
  },
  {
   "cell_type": "code",
   "execution_count": 126,
   "metadata": {},
   "outputs": [],
   "source": [
    "x_test = x_test.reshape(-1, 8000, 1) # Cambiando la figura para la capa convolucional"
   ]
  },
  {
   "cell_type": "code",
   "execution_count": 153,
   "metadata": {},
   "outputs": [
    {
     "name": "stdout",
     "output_type": "stream",
     "text": [
      "accuracy: 79.37%\n"
     ]
    }
   ],
   "source": [
    "scores = model.evaluate(x_test, y_test_onehot_encoded, verbose=0)\n",
    "print(\"%s: %.2f%%\" % (model.metrics_names[1], scores[1]*100))"
   ]
  },
  {
   "cell_type": "code",
   "execution_count": 154,
   "metadata": {},
   "outputs": [],
   "source": [
    "# Prediciendo resultados\n",
    "prob = model.predict(x_test)"
   ]
  },
  {
   "cell_type": "code",
   "execution_count": 155,
   "metadata": {},
   "outputs": [
    {
     "data": {
      "text/plain": [
       "3563"
      ]
     },
     "execution_count": 155,
     "metadata": {},
     "output_type": "execute_result"
    }
   ],
   "source": [
    "res = [i.argmax() for i in prob]\n",
    "len(res)"
   ]
  },
  {
   "cell_type": "code",
   "execution_count": 156,
   "metadata": {},
   "outputs": [
    {
     "data": {
      "text/plain": [
       "3563"
      ]
     },
     "execution_count": 156,
     "metadata": {},
     "output_type": "execute_result"
    }
   ],
   "source": [
    "len(x_test)"
   ]
  },
  {
   "cell_type": "markdown",
   "metadata": {},
   "source": [
    "### Matriz de confusión para ver el desempeño del modelo"
   ]
  },
  {
   "cell_type": "code",
   "execution_count": 157,
   "metadata": {},
   "outputs": [
    {
     "data": {
      "text/plain": [
       "array([[ 56,   0,   2, ...,   0,   0,   0],\n",
       "       [  0,  99,   0, ...,   0,   0,   2],\n",
       "       [  5,   5,  89, ...,   2,   0,   0],\n",
       "       ...,\n",
       "       [  0,   0,   2, ...,  49,   0,   2],\n",
       "       [  0,   0,   0, ...,   0, 103,   3],\n",
       "       [  0,   5,   0, ...,   1,   8,  84]], dtype=int64)"
      ]
     },
     "execution_count": 157,
     "metadata": {},
     "output_type": "execute_result"
    }
   ],
   "source": [
    "from sklearn.metrics import confusion_matrix\n",
    "\n",
    "conf_mat=confusion_matrix(y_test, res)\n",
    "conf_mat"
   ]
  },
  {
   "cell_type": "code",
   "execution_count": 158,
   "metadata": {},
   "outputs": [
    {
     "data": {
      "text/plain": [
       "<matplotlib.axes._subplots.AxesSubplot at 0x163e2d00cd0>"
      ]
     },
     "execution_count": 158,
     "metadata": {},
     "output_type": "execute_result"
    },
    {
     "data": {
      "image/png": "[encoded data removed]",
      "text/plain": [
       "<Figure size 720x504 with 2 Axes>"
      ]
     },
     "metadata": {
      "needs_background": "light"
     },
     "output_type": "display_data"
    }
   ],
   "source": [
    "# Graficando la matriz\n",
    "import seaborn as sn\n",
    "\n",
    "df_cm = pd.DataFrame(conf_mat, index = [i for i in le.classes_],\n",
    "                  columns = [i for i in le.classes_])\n",
    "plt.figure(figsize = (10,7))\n",
    "sn.heatmap(df_cm, annot=True)"
   ]
  },
  {
   "cell_type": "markdown",
   "metadata": {},
   "source": [
    "#### Guardando modelo con JSON"
   ]
  },
  {
   "cell_type": "code",
   "execution_count": 159,
   "metadata": {},
   "outputs": [],
   "source": [
    "# Guardar a Json\n",
    "model_json = model.to_json()\n",
    "with open(\"model8000.json\", \"w\") as json_file:\n",
    "    json_file.write(model_json)"
   ]
  },
  {
   "cell_type": "markdown",
   "metadata": {},
   "source": [
    "### Cargar el modelo"
   ]
  },
  {
   "cell_type": "code",
   "execution_count": 160,
   "metadata": {},
   "outputs": [],
   "source": [
    "from keras.models import model_from_json"
   ]
  },
  {
   "cell_type": "code",
   "execution_count": 165,
   "metadata": {},
   "outputs": [
    {
     "name": "stdout",
     "output_type": "stream",
     "text": [
      "Loaded model from disk\n"
     ]
    }
   ],
   "source": [
    "# cargar modelo\n",
    "json_file = open('model8000.json', 'r')\n",
    "loaded_model_json = json_file.read()\n",
    "json_file.close()\n",
    "model = model_from_json(loaded_model_json)\n",
    "# Cargar los pesos en h5\n",
    "model.load_weights(\"model.h5\")\n",
    "print(\"Loaded model from disk\")\n",
    " \n",
    "# Compilar el modelo\n",
    "model.compile(loss='categorical_crossentropy',\n",
    "              optimizer='adam',metrics=['accuracy'])"
   ]
  },
  {
   "cell_type": "code",
   "execution_count": 166,
   "metadata": {},
   "outputs": [
    {
     "name": "stdout",
     "output_type": "stream",
     "text": [
      "accuracy: 78.50%\n"
     ]
    }
   ],
   "source": [
    "# Evaluar modelo para ver que sí se guardó\n",
    "score = model.evaluate(x_test, y_test_onehot_encoded, verbose=0)\n",
    "print(\"%s: %.2f%%\" % (model.metrics_names[1], score[1]*100))"
   ]
  },
  {
   "cell_type": "code",
   "execution_count": null,
   "metadata": {},
   "outputs": [],
   "source": []
  }
 ],
 "metadata": {
  "kernelspec": {
   "display_name": "Python 3",
   "language": "python",
   "name": "python3"
  },
  "language_info": {
   "codemirror_mode": {
    "name": "ipython",
    "version": 3
   },
   "file_extension": ".py",
   "mimetype": "text/x-python",
   "name": "python",
   "nbconvert_exporter": "python",
   "pygments_lexer": "ipython3",
   "version": "3.8.2"
  }
 },
 "nbformat": 4,
 "nbformat_minor": 4
}
