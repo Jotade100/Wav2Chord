{
 "cells": [
  {
   "cell_type": "markdown",
   "metadata": {},
   "source": [
    "# Crear el dataset a partir de los archivos wav\n",
    "Ahora se procederá a crear el dataset de entrenamiento para el modelo."
   ]
  },
  {
   "cell_type": "code",
   "execution_count": 1,
   "metadata": {},
   "outputs": [],
   "source": [
    "import numpy as np\n",
    "import librosa\n",
    "import matplotlib.pyplot as plt\n",
    "import os\n",
    "import pandas as pd  "
   ]
  },
  {
   "cell_type": "markdown",
   "metadata": {},
   "source": [
    "### Seleccionando la carpeta para usar"
   ]
  },
  {
   "cell_type": "code",
   "execution_count": 2,
   "metadata": {},
   "outputs": [],
   "source": [
    "f = [filename for filename in os.listdir('chords')]\n",
    "f = f[1:] # por chekpoints de python"
   ]
  },
  {
   "cell_type": "code",
   "execution_count": 3,
   "metadata": {},
   "outputs": [
    {
     "data": {
      "text/plain": [
       "['A#dim',\n",
       " 'A#maj',\n",
       " 'A#min',\n",
       " 'Adim',\n",
       " 'Amaj',\n",
       " 'Amin',\n",
       " 'Bdim',\n",
       " 'Bmaj',\n",
       " 'Bmin',\n",
       " 'C#dim',\n",
       " 'C#maj',\n",
       " 'C#min',\n",
       " 'Cdim',\n",
       " 'Cmaj',\n",
       " 'Cmin',\n",
       " 'D#dim',\n",
       " 'D#maj',\n",
       " 'D#min',\n",
       " 'Ddim',\n",
       " 'Dmaj',\n",
       " 'Dmin',\n",
       " 'Edim',\n",
       " 'Emaj',\n",
       " 'Emin',\n",
       " 'F#dim',\n",
       " 'F#maj',\n",
       " 'F#min',\n",
       " 'Fdim',\n",
       " 'Fmaj',\n",
       " 'Fmin',\n",
       " 'G#dim',\n",
       " 'G#maj',\n",
       " 'G#min',\n",
       " 'Gdim',\n",
       " 'Gmaj',\n",
       " 'Gmin']"
      ]
     },
     "execution_count": 3,
     "metadata": {},
     "output_type": "execute_result"
    }
   ],
   "source": [
    "f"
   ]
  },
  {
   "cell_type": "markdown",
   "metadata": {},
   "source": [
    "### Creando arreglos para guardar X y Y"
   ]
  },
  {
   "cell_type": "code",
   "execution_count": 44,
   "metadata": {},
   "outputs": [],
   "source": [
    "X_completo = []\n",
    "Y_completo = []"
   ]
  },
  {
   "cell_type": "code",
   "execution_count": 46,
   "metadata": {},
   "outputs": [
    {
     "name": "stdout",
     "output_type": "stream",
     "text": [
      "A#dim\n",
      "A#maj\n",
      "A#min\n",
      "Adim\n",
      "Amaj\n",
      "Amin\n",
      "Bdim\n",
      "Bmaj\n",
      "Bmin\n",
      "C#dim\n",
      "C#maj\n",
      "C#min\n",
      "Cdim\n",
      "Cmaj\n",
      "Cmin\n",
      "D#dim\n",
      "D#maj\n",
      "D#min\n",
      "Ddim\n",
      "Dmaj\n",
      "Dmin\n",
      "Edim\n",
      "Emaj\n",
      "Emin\n",
      "F#dim\n",
      "F#maj\n",
      "F#min\n",
      "Fdim\n",
      "Fmaj\n",
      "Fmin\n",
      "G#dim\n",
      "G#maj\n",
      "G#min\n",
      "Gdim\n",
      "Gmaj\n",
      "Gmin\n"
     ]
    }
   ],
   "source": [
    "i = 0\n",
    "for clase in f:\n",
    "    print(clase)\n",
    "    for filename in os.listdir('chords/' + clase):\n",
    "        if filename.endswith('.wav'):\n",
    "            samples, sample_rate = librosa.load('chords/' + clase  + '/' + filename, sr = 16000) # Carga el archivo a 8KHz\n",
    "            #print(\"Sample rate \", sample_rate)\n",
    "            # Hace que todas las ondas queden a 8KHz\n",
    "            samples = librosa.resample(samples, sample_rate, 8000)\n",
    "            samples = librosa.resample(samples, sample_rate, 8000)\n",
    "            #print(samples)\n",
    "            #print(\"No de samples \", len(samples))\n",
    "            if len(samples) != 8000:\n",
    "                print('chords/' + clase  + '/' + filename, str(len(X_completo)))\n",
    "                print(samples)\n",
    "                print(len(samples))\n",
    "            X_completo.append(samples)\n",
    "            Y_completo.append(clase)"
   ]
  },
  {
   "cell_type": "markdown",
   "metadata": {},
   "source": [
    "### Guardando las listas a CSV\n",
    "Para no tener que repetir el proceso"
   ]
  },
  {
   "cell_type": "code",
   "execution_count": 47,
   "metadata": {},
   "outputs": [
    {
     "data": {
      "text/plain": [
       "(11874, 8000)"
      ]
     },
     "execution_count": 47,
     "metadata": {},
     "output_type": "execute_result"
    }
   ],
   "source": [
    "X_completo = np.array(X_completo)\n",
    "X_completo.shape"
   ]
  },
  {
   "cell_type": "code",
   "execution_count": null,
   "metadata": {},
   "outputs": [],
   "source": [
    "# Código de verificación únicamente\n",
    "y = 0\n",
    "for i in X_completo:\n",
    "    if len(i) != 8000:\n",
    "        print(y)\n",
    "        y+=1"
   ]
  },
  {
   "cell_type": "code",
   "execution_count": 51,
   "metadata": {},
   "outputs": [
    {
     "data": {
      "text/plain": [
       "(11874, 8000)"
      ]
     },
     "execution_count": 51,
     "metadata": {},
     "output_type": "execute_result"
    }
   ],
   "source": [
    "X_completo.shape"
   ]
  },
  {
   "cell_type": "code",
   "execution_count": 52,
   "metadata": {},
   "outputs": [],
   "source": [
    "## Guardar a CSV\n",
    "np.savetxt(\"fileX8000.csv\", X_completo, delimiter=\",\", fmt='%s')\n",
    "np.savetxt(\"fileY8000.csv\", Y_completo, delimiter=\",\", fmt='%s')"
   ]
  },
  {
   "cell_type": "code",
   "execution_count": null,
   "metadata": {},
   "outputs": [],
   "source": []
  }
 ],
 "metadata": {
  "kernelspec": {
   "display_name": "Python 3",
   "language": "python",
   "name": "python3"
  },
  "language_info": {
   "codemirror_mode": {
    "name": "ipython",
    "version": 3
   },
   "file_extension": ".py",
   "mimetype": "text/x-python",
   "name": "python",
   "nbconvert_exporter": "python",
   "pygments_lexer": "ipython3",
   "version": "3.8.2"
  }
 },
 "nbformat": 4,
 "nbformat_minor": 4
}
