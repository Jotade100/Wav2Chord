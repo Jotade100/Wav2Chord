{
 "cells": [
  {
   "cell_type": "markdown",
   "metadata": {},
   "source": [
    "# Procesamiento de sonidos\n",
    "Se procederá a partir los audios según sus acordes y generar los datos que entrenarán al modelo predictivo."
   ]
  },
  {
   "cell_type": "markdown",
   "metadata": {},
   "source": [
    "## Acordes de guitarra"
   ]
  },
  {
   "cell_type": "markdown",
   "metadata": {},
   "source": [
    "### Abriendo el archivo con etiquetas de sonidos\n",
    "El archivo contiene línea a línea el segmento inicial, final, y el acorde que se está usando."
   ]
  },
  {
   "cell_type": "code",
   "execution_count": 7,
   "metadata": {},
   "outputs": [
    {
     "data": {
      "text/plain": [
       "['0.0\\t2.0\\tE:maj\\n',\n",
       " '2.0\\t4.0\\tF:maj\\n',\n",
       " '4.0\\t6.0\\tF#:maj\\n',\n",
       " '6.0\\t8.0\\tG:maj\\n',\n",
       " '8.0\\t10.0\\tG#:maj\\n',\n",
       " '10.0\\t12.0\\tA:maj\\n',\n",
       " '12.0\\t14.0\\tA#:maj\\n',\n",
       " '14.0\\t16.0\\tB:maj\\n',\n",
       " '16.0\\t18.0\\tC:maj\\n',\n",
       " '18.0\\t20.0\\tC#:maj\\n']"
      ]
     },
     "execution_count": 7,
     "metadata": {},
     "output_type": "execute_result"
    }
   ],
   "source": [
    "# Abrir archivo\n",
    "f = open('guitar/guitar_annotation.lab', \"r\")\n",
    "# Obtener todas las líneas\n",
    "lines = f.readlines()\n",
    "# Imprimir primeras 10 líneas\n",
    "lines[0:10]"
   ]
  },
  {
   "cell_type": "markdown",
   "metadata": {},
   "source": [
    "### Dándole formato al archivo\n",
    "Quita los caracteres indeseados"
   ]
  },
  {
   "cell_type": "code",
   "execution_count": 8,
   "metadata": {},
   "outputs": [
    {
     "data": {
      "text/plain": [
       "[['0.0', '2.0', 'E:maj'],\n",
       " ['2.0', '4.0', 'F:maj'],\n",
       " ['4.0', '6.0', 'F#:maj'],\n",
       " ['6.0', '8.0', 'G:maj'],\n",
       " ['8.0', '10.0', 'G#:maj'],\n",
       " ['10.0', '12.0', 'A:maj'],\n",
       " ['12.0', '14.0', 'A#:maj'],\n",
       " ['14.0', '16.0', 'B:maj'],\n",
       " ['16.0', '18.0', 'C:maj'],\n",
       " ['18.0', '20.0', 'C#:maj']]"
      ]
     },
     "execution_count": 8,
     "metadata": {},
     "output_type": "execute_result"
    }
   ],
   "source": [
    "lines = [i.replace('\\n', '').split('\\t') for i in lines]\n",
    "lines[0:10]"
   ]
  },
  {
   "cell_type": "markdown",
   "metadata": {},
   "source": [
    "### Muchísimos acordes\n",
    "Como notarán hay demasiados acordes, para poder entrenar mejor el modelo y reducir el número final de clases se quedarán los más representativos.\n",
    "Mis más sinceras disculpas a los académicos de la música y a los jazzistas que les encanta nombrar acordes."
   ]
  },
  {
   "cell_type": "code",
   "execution_count": 11,
   "metadata": {},
   "outputs": [
    {
     "data": {
      "text/plain": [
       "[['0.0', '2.0', 'Emaj'],\n",
       " ['2.0', '4.0', 'Fmaj'],\n",
       " ['4.0', '6.0', 'F#maj'],\n",
       " ['6.0', '8.0', 'Gmaj'],\n",
       " ['8.0', '10.0', 'G#maj'],\n",
       " ['10.0', '12.0', 'Amaj'],\n",
       " ['12.0', '14.0', 'A#maj'],\n",
       " ['14.0', '16.0', 'Bmaj'],\n",
       " ['16.0', '18.0', 'Cmaj'],\n",
       " ['18.0', '20.0', 'C#maj']]"
      ]
     },
     "execution_count": 11,
     "metadata": {},
     "output_type": "execute_result"
    }
   ],
   "source": [
    "for i in lines:\n",
    "    i[2] = i[2].replace(':', '') # quita la notación de 2 puntos\n",
    "    i[2] = i[2].replace('7', '') # quita la notación de séptimas\n",
    "    i[2] = i[2].replace('5', '') # quita la notación de quintas\n",
    "    i[2] = i[2].replace('h', '') # notación para disminuidos\n",
    "    \n",
    "lines[0:10]"
   ]
  },
  {
   "cell_type": "markdown",
   "metadata": {},
   "source": [
    "### Retirando los b5 o 5\n",
    "Ahora quitaremos todos los acordes con b5 o 5."
   ]
  },
  {
   "cell_type": "code",
   "execution_count": 14,
   "metadata": {},
   "outputs": [],
   "source": [
    "lines = [i for i in lines if len(i[2]) > 2]"
   ]
  },
  {
   "cell_type": "code",
   "execution_count": 16,
   "metadata": {},
   "outputs": [
    {
     "data": {
      "text/plain": [
       "[['0.0', '2.0', 'Emaj'],\n",
       " ['2.0', '4.0', 'Fmaj'],\n",
       " ['4.0', '6.0', 'F#maj'],\n",
       " ['6.0', '8.0', 'Gmaj'],\n",
       " ['8.0', '10.0', 'G#maj'],\n",
       " ['10.0', '12.0', 'Amaj'],\n",
       " ['12.0', '14.0', 'A#maj'],\n",
       " ['14.0', '16.0', 'Bmaj'],\n",
       " ['16.0', '18.0', 'Cmaj'],\n",
       " ['18.0', '20.0', 'C#maj']]"
      ]
     },
     "execution_count": 16,
     "metadata": {},
     "output_type": "execute_result"
    }
   ],
   "source": [
    "lines[0:10]"
   ]
  },
  {
   "cell_type": "markdown",
   "metadata": {},
   "source": [
    "### Sacando los acordes de cada archivo\n",
    "Se iterará por cada carpeta y archivo para sacar todos los acordes"
   ]
  },
  {
   "cell_type": "code",
   "execution_count": 18,
   "metadata": {},
   "outputs": [],
   "source": [
    "import os\n",
    "from pydub import AudioSegment\n",
    "import librosa\n",
    "\n",
    "chord_counter = 29090 # para nombramiento de archivos\n",
    "\n",
    "def generate_chords_list_from_directory(directory, lista):\n",
    "    global chord_counter\n",
    "    for filename in os.listdir(directory):\n",
    "        if filename.endswith('.wav'):\n",
    "            nombre_archivo = directory + '/' + filename\n",
    "            print(\"Atendiendo \", nombre_archivo)\n",
    "            for i in lista:\n",
    "                x, Fs = librosa.load(nombre_archivo, sr=None)\n",
    "                librosa.output.write_wav('chords/'+ i[2]+'/'+ str(chord_counter) +'.wav', x[Fs*int(float(i[0])):Fs*int(float(i[1]))], 16000)\n",
    "                chord_counter += 1"
   ]
  },
  {
   "cell_type": "code",
   "execution_count": 46,
   "metadata": {},
   "outputs": [],
   "source": [
    "def generate_folders(directory, lista):\n",
    "    for i in lista:\n",
    "        try:\n",
    "            os.mkdir(directory + '/' + i[2])\n",
    "        except:\n",
    "            pass"
   ]
  },
  {
   "cell_type": "code",
   "execution_count": 48,
   "metadata": {},
   "outputs": [],
   "source": [
    "generate_folders('chords', lines)"
   ]
  },
  {
   "cell_type": "code",
   "execution_count": 49,
   "metadata": {},
   "outputs": [
    {
     "name": "stdout",
     "output_type": "stream",
     "text": [
      "Atendiendo  guitar\\ableton_live_guitar_Campfire.wav\n",
      "Atendiendo  guitar\\ableton_live_guitar_Guitar_Open.wav\n",
      "Atendiendo  guitar\\ableton_live_guitar_Nylon_Concerto_Guitar.wav\n",
      "Atendiendo  guitar\\garageband_guitar_Acoustic_Guitar.wav\n",
      "Atendiendo  guitar\\garageband_guitar_Classic_Clean.wav\n",
      "Atendiendo  guitar\\garageband_guitar_Hard_Rock.wav\n"
     ]
    }
   ],
   "source": [
    "generate_chords_list_from_directory('guitar', lines)"
   ]
  },
  {
   "cell_type": "markdown",
   "metadata": {},
   "source": [
    "## Acordes que no son de guitarra"
   ]
  },
  {
   "cell_type": "code",
   "execution_count": 3,
   "metadata": {},
   "outputs": [
    {
     "data": {
      "text/plain": [
       "['0.0\\t2.0\\tC:maj\\n',\n",
       " '2.0\\t4.0\\tC:maj/3\\n',\n",
       " '4.0\\t6.0\\tC:maj/5\\n',\n",
       " '6.0\\t8.0\\tC#:maj\\n',\n",
       " '8.0\\t10.0\\tC#:maj/3\\n',\n",
       " '10.0\\t12.0\\tC#:maj/5\\n',\n",
       " '12.0\\t14.0\\tD:maj\\n',\n",
       " '14.0\\t16.0\\tD:maj/3\\n',\n",
       " '16.0\\t18.0\\tD:maj/5\\n',\n",
       " '18.0\\t20.0\\tD#:maj\\n']"
      ]
     },
     "execution_count": 3,
     "metadata": {},
     "output_type": "execute_result"
    }
   ],
   "source": [
    "# Abrir archivo\n",
    "f = open('non_guitar/non_guitar_annotation.lab', \"r\")\n",
    "# Obtener todas las líneas\n",
    "lines_non = f.readlines()\n",
    "# Imprimir primeras 10 líneas\n",
    "lines_non[0:10]"
   ]
  },
  {
   "cell_type": "code",
   "execution_count": 4,
   "metadata": {},
   "outputs": [
    {
     "data": {
      "text/plain": [
       "[['0.0', '2.0', 'C:maj'],\n",
       " ['2.0', '4.0', 'C:maj/3'],\n",
       " ['4.0', '6.0', 'C:maj/5'],\n",
       " ['6.0', '8.0', 'C#:maj'],\n",
       " ['8.0', '10.0', 'C#:maj/3'],\n",
       " ['10.0', '12.0', 'C#:maj/5'],\n",
       " ['12.0', '14.0', 'D:maj'],\n",
       " ['14.0', '16.0', 'D:maj/3'],\n",
       " ['16.0', '18.0', 'D:maj/5'],\n",
       " ['18.0', '20.0', 'D#:maj']]"
      ]
     },
     "execution_count": 4,
     "metadata": {},
     "output_type": "execute_result"
    }
   ],
   "source": [
    "lines_non = [i.replace('\\n', '').split('\\t') for i in lines_non]\n",
    "lines_non[0:10]"
   ]
  },
  {
   "cell_type": "markdown",
   "metadata": {},
   "source": [
    "### Muchísimos acordes\n",
    "Como notarán hay demasiados acordes, para poder entrenar mejor el modelo y reducir el número final de clases se quedarán los más representativos.\n",
    "Mis más sinceras disculpas a los académicos de la música y a los jazzistas que les encanta nombrar acordes."
   ]
  },
  {
   "cell_type": "code",
   "execution_count": 5,
   "metadata": {},
   "outputs": [
    {
     "data": {
      "text/plain": [
       "[['0.0', '2.0', 'Cmaj'],\n",
       " ['2.0', '4.0', 'Cmaj'],\n",
       " ['4.0', '6.0', 'Cmaj'],\n",
       " ['6.0', '8.0', 'C#maj'],\n",
       " ['8.0', '10.0', 'C#maj'],\n",
       " ['10.0', '12.0', 'C#maj'],\n",
       " ['12.0', '14.0', 'Dmaj'],\n",
       " ['14.0', '16.0', 'Dmaj'],\n",
       " ['16.0', '18.0', 'Dmaj'],\n",
       " ['18.0', '20.0', 'D#maj']]"
      ]
     },
     "execution_count": 5,
     "metadata": {},
     "output_type": "execute_result"
    }
   ],
   "source": [
    "for i in lines_non:\n",
    "    i[2] = i[2].replace(':', '') # quita la notación de 2 puntos\n",
    "    i[2] = i[2].replace('7', '') # quita la notación de séptimas\n",
    "    i[2] = i[2].replace('5', '') # quita la notación de quintas\n",
    "    i[2] = i[2].replace('h', '') # notación para disminuidos\n",
    "    i[2] = i[2].replace('/', '') # notación para disminuidos  \n",
    "    i[2] = i[2].replace('3', '') # notación para disminuidos  \n",
    "lines_non[0:10]"
   ]
  },
  {
   "cell_type": "code",
   "execution_count": 6,
   "metadata": {},
   "outputs": [],
   "source": [
    "lines_non = [i for i in lines_non if len(i[2]) > 2]"
   ]
  },
  {
   "cell_type": "code",
   "execution_count": 17,
   "metadata": {},
   "outputs": [
    {
     "name": "stdout",
     "output_type": "stream",
     "text": [
      "Atendiendo  non_guitar/ableton_live_piano_Celestial_Pad.wav\n",
      "Atendiendo  non_guitar/ableton_live_piano_Grand_Piano.wav\n",
      "Atendiendo  non_guitar/ableton_live_piano_Grand_Piano_Reverb.wav\n",
      "Atendiendo  non_guitar/ableton_live_piano_Piano_to_Pad_electric_piano.wav\n",
      "Atendiendo  non_guitar/ableton_live_piano_Sadness_Pad.wav\n",
      "Atendiendo  non_guitar/ableton_live_piano_Sweetness_Pad.wav\n",
      "Atendiendo  non_guitar/garageband_piano_Boesendorfer Grand Piano.wav\n",
      "Atendiendo  non_guitar/garageband_piano_Deluxe_Modern.wav\n",
      "Atendiendo  non_guitar/garageband_piano_Jazz_Organ.wav\n",
      "Atendiendo  non_guitar/garageband_piano_Steinway_Grand_Piano.wav\n"
     ]
    }
   ],
   "source": [
    "generate_chords_list_from_directory('non_guitar', lines_non)"
   ]
  },
  {
   "cell_type": "code",
   "execution_count": null,
   "metadata": {},
   "outputs": [],
   "source": []
  }
 ],
 "metadata": {
  "kernelspec": {
   "display_name": "Python 3",
   "language": "python",
   "name": "python3"
  },
  "language_info": {
   "codemirror_mode": {
    "name": "ipython",
    "version": 3
   },
   "file_extension": ".py",
   "mimetype": "text/x-python",
   "name": "python",
   "nbconvert_exporter": "python",
   "pygments_lexer": "ipython3",
   "version": "3.8.2"
  }
 },
 "nbformat": 4,
 "nbformat_minor": 4
}
